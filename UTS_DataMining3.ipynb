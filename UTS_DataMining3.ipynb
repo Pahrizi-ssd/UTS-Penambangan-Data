{
 "cells": [
  {
   "cell_type": "code",
   "execution_count": 1,
   "id": "d7f92c92",
   "metadata": {},
   "outputs": [],
   "source": [
    "import pandas as pd\n",
    "import numpy as np\n",
    "import matplotlib.pyplot as plt\n",
    "import seaborn as sns"
   ]
  },
  {
   "cell_type": "code",
   "execution_count": 2,
   "id": "dfd34608",
   "metadata": {},
   "outputs": [
    {
     "data": {
      "text/html": [
       "<div>\n",
       "<style scoped>\n",
       "    .dataframe tbody tr th:only-of-type {\n",
       "        vertical-align: middle;\n",
       "    }\n",
       "\n",
       "    .dataframe tbody tr th {\n",
       "        vertical-align: top;\n",
       "    }\n",
       "\n",
       "    .dataframe thead th {\n",
       "        text-align: right;\n",
       "    }\n",
       "</style>\n",
       "<table border=\"1\" class=\"dataframe\">\n",
       "  <thead>\n",
       "    <tr style=\"text-align: right;\">\n",
       "      <th></th>\n",
       "      <th>PassengerId</th>\n",
       "      <th>Survived</th>\n",
       "      <th>Pclass</th>\n",
       "      <th>Name</th>\n",
       "      <th>Sex</th>\n",
       "      <th>Age</th>\n",
       "      <th>SibSp</th>\n",
       "      <th>Parch</th>\n",
       "      <th>Ticket</th>\n",
       "      <th>Fare</th>\n",
       "      <th>Cabin</th>\n",
       "      <th>Embarked</th>\n",
       "    </tr>\n",
       "  </thead>\n",
       "  <tbody>\n",
       "    <tr>\n",
       "      <th>0</th>\n",
       "      <td>1</td>\n",
       "      <td>0</td>\n",
       "      <td>3</td>\n",
       "      <td>Braund, Mr. Owen Harris</td>\n",
       "      <td>male</td>\n",
       "      <td>22.0</td>\n",
       "      <td>1</td>\n",
       "      <td>0</td>\n",
       "      <td>A/5 21171</td>\n",
       "      <td>7.2500</td>\n",
       "      <td>NaN</td>\n",
       "      <td>S</td>\n",
       "    </tr>\n",
       "    <tr>\n",
       "      <th>1</th>\n",
       "      <td>2</td>\n",
       "      <td>1</td>\n",
       "      <td>1</td>\n",
       "      <td>Cumings, Mrs. John Bradley (Florence Briggs Th...</td>\n",
       "      <td>female</td>\n",
       "      <td>38.0</td>\n",
       "      <td>1</td>\n",
       "      <td>0</td>\n",
       "      <td>PC 17599</td>\n",
       "      <td>71.2833</td>\n",
       "      <td>C85</td>\n",
       "      <td>C</td>\n",
       "    </tr>\n",
       "    <tr>\n",
       "      <th>2</th>\n",
       "      <td>3</td>\n",
       "      <td>1</td>\n",
       "      <td>3</td>\n",
       "      <td>Heikkinen, Miss. Laina</td>\n",
       "      <td>female</td>\n",
       "      <td>26.0</td>\n",
       "      <td>0</td>\n",
       "      <td>0</td>\n",
       "      <td>STON/O2. 3101282</td>\n",
       "      <td>7.9250</td>\n",
       "      <td>NaN</td>\n",
       "      <td>S</td>\n",
       "    </tr>\n",
       "    <tr>\n",
       "      <th>3</th>\n",
       "      <td>4</td>\n",
       "      <td>1</td>\n",
       "      <td>1</td>\n",
       "      <td>Futrelle, Mrs. Jacques Heath (Lily May Peel)</td>\n",
       "      <td>female</td>\n",
       "      <td>35.0</td>\n",
       "      <td>1</td>\n",
       "      <td>0</td>\n",
       "      <td>113803</td>\n",
       "      <td>53.1000</td>\n",
       "      <td>C123</td>\n",
       "      <td>S</td>\n",
       "    </tr>\n",
       "    <tr>\n",
       "      <th>4</th>\n",
       "      <td>5</td>\n",
       "      <td>0</td>\n",
       "      <td>3</td>\n",
       "      <td>Allen, Mr. William Henry</td>\n",
       "      <td>male</td>\n",
       "      <td>35.0</td>\n",
       "      <td>0</td>\n",
       "      <td>0</td>\n",
       "      <td>373450</td>\n",
       "      <td>8.0500</td>\n",
       "      <td>NaN</td>\n",
       "      <td>S</td>\n",
       "    </tr>\n",
       "  </tbody>\n",
       "</table>\n",
       "</div>"
      ],
      "text/plain": [
       "   PassengerId  Survived  Pclass  \\\n",
       "0            1         0       3   \n",
       "1            2         1       1   \n",
       "2            3         1       3   \n",
       "3            4         1       1   \n",
       "4            5         0       3   \n",
       "\n",
       "                                                Name     Sex   Age  SibSp  \\\n",
       "0                            Braund, Mr. Owen Harris    male  22.0      1   \n",
       "1  Cumings, Mrs. John Bradley (Florence Briggs Th...  female  38.0      1   \n",
       "2                             Heikkinen, Miss. Laina  female  26.0      0   \n",
       "3       Futrelle, Mrs. Jacques Heath (Lily May Peel)  female  35.0      1   \n",
       "4                           Allen, Mr. William Henry    male  35.0      0   \n",
       "\n",
       "   Parch            Ticket     Fare Cabin Embarked  \n",
       "0      0         A/5 21171   7.2500   NaN        S  \n",
       "1      0          PC 17599  71.2833   C85        C  \n",
       "2      0  STON/O2. 3101282   7.9250   NaN        S  \n",
       "3      0            113803  53.1000  C123        S  \n",
       "4      0            373450   8.0500   NaN        S  "
      ]
     },
     "execution_count": 2,
     "metadata": {},
     "output_type": "execute_result"
    }
   ],
   "source": [
    "df = pd.read_csv('D:/Kuliah/semester 4/analisis runtun waktu/Data_Mining/Titanic-Dataset.csv')\n",
    "df.head()"
   ]
  },
  {
   "cell_type": "markdown",
   "id": "6464f475",
   "metadata": {},
   "source": [
    "### 1. Eksplorasi  "
   ]
  },
  {
   "cell_type": "markdown",
   "id": "09cd7425",
   "metadata": {},
   "source": [
    "##### a. Jumlah total penumpang"
   ]
  },
  {
   "cell_type": "code",
   "execution_count": 3,
   "id": "6aebc496",
   "metadata": {},
   "outputs": [
    {
     "name": "stdout",
     "output_type": "stream",
     "text": [
      "Jumlah total penumpang: 891\n"
     ]
    }
   ],
   "source": [
    "total_penumpang = df.shape[0]\n",
    "print(f\"Jumlah total penumpang: {total_penumpang}\")"
   ]
  },
  {
   "cell_type": "markdown",
   "id": "ef0c3b75",
   "metadata": {},
   "source": [
    "##### b. Jumlah penumpang yang selamat dan tidak selamat (Tabel & Grafik)"
   ]
  },
  {
   "cell_type": "code",
   "execution_count": 6,
   "id": "275ee410",
   "metadata": {},
   "outputs": [
    {
     "name": "stdout",
     "output_type": "stream",
     "text": [
      "\n",
      "Tabel:\n",
      " Survived\n",
      "Tidak Selamat    549\n",
      "Selamat          342\n",
      "Name: count, dtype: int64\n"
     ]
    }
   ],
   "source": [
    "# Tabel\n",
    "print(\"\\nTabel:\\n\", df['Survived'].value_counts().rename(index={0:'Tidak Selamat', 1:'Selamat'}))"
   ]
  },
  {
   "cell_type": "code",
   "execution_count": 7,
   "id": "2ba127bc",
   "metadata": {},
   "outputs": [
    {
     "data": {
      "image/png": "[encoded data removed]",
      "text/plain": [
       "<Figure size 640x480 with 1 Axes>"
      ]
     },
     "metadata": {},
     "output_type": "display_data"
    }
   ],
   "source": [
    "# Grafik\n",
    "sns.countplot(data=df, x='Survived')\n",
    "plt.xticks([0,1], ['Tidak Selamat', 'Selamat'])\n",
    "plt.title('Distribusi Penumpang Selamat vs Tidak')\n",
    "plt.show()"
   ]
  },
  {
   "cell_type": "markdown",
   "id": "4229d63e",
   "metadata": {},
   "source": [
    "##### c. Rata-rata umur, penumpang termuda dan tertua"
   ]
  },
  {
   "cell_type": "code",
   "execution_count": 8,
   "id": "d7cc1835",
   "metadata": {},
   "outputs": [
    {
     "name": "stdout",
     "output_type": "stream",
     "text": [
      "\n",
      "Rata-rata umur: 29.69911764705882\n",
      "Penumpang termuda:\n",
      "                                 Name   Age\n",
      "803  Thomas, Master. Assad Alexander  0.42\n",
      "Penumpang tertua:\n",
      "                                      Name   Age\n",
      "630  Barkworth, Mr. Algernon Henry Wilson  80.0\n"
     ]
    }
   ],
   "source": [
    "mean_age = df['Age'].mean()\n",
    "min_age = df['Age'].min()\n",
    "max_age = df['Age'].max()\n",
    "youngest = df[df['Age'] == min_age]\n",
    "oldest = df[df['Age'] == max_age]\n",
    "\n",
    "print(\"\\nRata-rata umur:\", mean_age)\n",
    "print(\"Penumpang termuda:\\n\", youngest[['Name', 'Age']])\n",
    "print(\"Penumpang tertua:\\n\", oldest[['Name', 'Age']])"
   ]
  },
  {
   "cell_type": "markdown",
   "id": "ee9182a6",
   "metadata": {},
   "source": [
    "##### d. Jumlah penumpang berdasarkan jenis kelamin"
   ]
  },
  {
   "cell_type": "code",
   "execution_count": 9,
   "id": "eac469b3",
   "metadata": {},
   "outputs": [
    {
     "name": "stdout",
     "output_type": "stream",
     "text": [
      "\n",
      "Jumlah penumpang berdasarkan jenis kelamin:\n",
      " Sex\n",
      "male      577\n",
      "female    314\n",
      "Name: count, dtype: int64\n"
     ]
    }
   ],
   "source": [
    "gender_counts = df['Sex'].value_counts()\n",
    "print(\"\\nJumlah penumpang berdasarkan jenis kelamin:\\n\", gender_counts)"
   ]
  },
  {
   "cell_type": "code",
   "execution_count": 10,
   "id": "3a32ca91",
   "metadata": {},
   "outputs": [
    {
     "data": {
      "image/png": "[encoded data removed]",
      "text/plain": [
       "<Figure size 640x480 with 1 Axes>"
      ]
     },
     "metadata": {},
     "output_type": "display_data"
    }
   ],
   "source": [
    "# Visualisasi\n",
    "sns.countplot(data=df, x='Sex')\n",
    "plt.title(\"Distribusi Jenis Kelamin Penumpang\")\n",
    "plt.show()"
   ]
  },
  {
   "cell_type": "markdown",
   "id": "4f08b149",
   "metadata": {},
   "source": [
    "##### e. Jumlah berdasarkan kelas & persen kelas 1"
   ]
  },
  {
   "cell_type": "code",
   "execution_count": 11,
   "id": "f7036982",
   "metadata": {},
   "outputs": [
    {
     "name": "stdout",
     "output_type": "stream",
     "text": [
      "\n",
      "Jumlah penumpang berdasarkan kelas:\n",
      " Pclass\n",
      "3    491\n",
      "1    216\n",
      "2    184\n",
      "Name: count, dtype: int64\n",
      "Persen kelas 1: 24.24%\n"
     ]
    }
   ],
   "source": [
    "class_counts = df['Pclass'].value_counts()\n",
    "percent_class1 = (class_counts[1] / total_penumpang) * 100\n",
    "print(\"\\nJumlah penumpang berdasarkan kelas:\\n\", class_counts)\n",
    "print(f\"Persen kelas 1: {percent_class1:.2f}%\")"
   ]
  },
  {
   "cell_type": "code",
   "execution_count": 12,
   "id": "c7218ba8",
   "metadata": {},
   "outputs": [
    {
     "data": {
      "image/png": "[encoded data removed]",
      "text/plain": [
       "<Figure size 640x480 with 1 Axes>"
      ]
     },
     "metadata": {},
     "output_type": "display_data"
    }
   ],
   "source": [
    "# Visualisasi\n",
    "sns.countplot(data=df, x='Pclass')\n",
    "plt.title(\"Distribusi Kelas Penumpang\")\n",
    "plt.xlabel(\"Kelas\")\n",
    "plt.show()"
   ]
  },
  {
   "cell_type": "markdown",
   "id": "af71b6a0",
   "metadata": {},
   "source": [
    "### 2. Preprocessing"
   ]
  },
  {
   "cell_type": "markdown",
   "id": "4f2ad14c",
   "metadata": {},
   "source": [
    "##### a. Cek missing values"
   ]
  },
  {
   "cell_type": "code",
   "execution_count": 5,
   "id": "b383cd12",
   "metadata": {},
   "outputs": [
    {
     "name": "stdout",
     "output_type": "stream",
     "text": [
      "\n",
      "Missing values:\n",
      " PassengerId      0\n",
      "Survived         0\n",
      "Pclass           0\n",
      "Name             0\n",
      "Sex              0\n",
      "Age            177\n",
      "SibSp            0\n",
      "Parch            0\n",
      "Ticket           0\n",
      "Fare             0\n",
      "Cabin          687\n",
      "Embarked         2\n",
      "dtype: int64\n"
     ]
    }
   ],
   "source": [
    "missing = df.isnull().sum()\n",
    "print(\"\\nMissing values:\\n\", missing)"
   ]
  },
  {
   "cell_type": "markdown",
   "id": "e823c2cf",
   "metadata": {},
   "source": [
    "Berdasarkan hasil pengecekan, terdapat missing value pada beberapa kolom dalam dataset. Kolom Age memiliki 177 nilai yang hilang, Embarked sebanyak 2, dan Cabin paling banyak dengan 687 nilai kosong. Sementara kolom lainnya tidak memiliki missing value. Kondisi ini menunjukkan perlunya penanganan khusus agar data siap digunakan untuk analisis lebih lanjut."
   ]
  },
  {
   "cell_type": "markdown",
   "id": "82eadb1b",
   "metadata": {},
   "source": [
    "##### b. Tangani missing value"
   ]
  },
  {
   "cell_type": "markdown",
   "id": "ea060072",
   "metadata": {},
   "source": [
    "Dalam proses pembersihan data Titanic, dilakukan tiga pendekatan berbeda untuk menangani missing value berdasarkan karakteristik masing-masing kolom:\n",
    "\n",
    "1. Kolom \"Age\" diisi dengan median karena nilai umur termasuk data numerik yang sering kali memiliki outlier. Median dipilih karena lebih stabil dan tidak terpengaruh oleh nilai ekstrem, sehingga memberikan representasi yang lebih adil terhadap distribusi umur.\n",
    "\n",
    "2. Kolom \"Embarked\" diisi dengan modus (mode) karena tipe datanya kategorikal. Modus adalah nilai yang paling sering muncul, sehingga secara logika paling masuk akal untuk digunakan sebagai nilai pengganti.\n",
    "\n",
    "3. Kolom \"Cabin\" dihapus (drop) karena proporsi data kosongnya sangat besar. Jika tetap dipertahankan, kolom ini berpotensi menimbulkan bias atau noise pada model. Menghapus kolom yang terlalu banyak kosong lebih efisien dan tidak mengganggu kualitas data secara keseluruhan."
   ]
  },
  {
   "cell_type": "code",
   "execution_count": 13,
   "id": "208d1e01",
   "metadata": {},
   "outputs": [
    {
     "name": "stderr",
     "output_type": "stream",
     "text": [
      "C:\\Users\\LENOVO\\AppData\\Local\\Temp\\ipykernel_30116\\2651696768.py:1: FutureWarning: A value is trying to be set on a copy of a DataFrame or Series through chained assignment using an inplace method.\n",
      "The behavior will change in pandas 3.0. This inplace method will never work because the intermediate object on which we are setting values always behaves as a copy.\n",
      "\n",
      "For example, when doing 'df[col].method(value, inplace=True)', try using 'df.method({col: value}, inplace=True)' or df[col] = df[col].method(value) instead, to perform the operation inplace on the original object.\n",
      "\n",
      "\n",
      "  df['Age'].fillna(df['Age'].median(), inplace=True)\n",
      "C:\\Users\\LENOVO\\AppData\\Local\\Temp\\ipykernel_30116\\2651696768.py:2: FutureWarning: A value is trying to be set on a copy of a DataFrame or Series through chained assignment using an inplace method.\n",
      "The behavior will change in pandas 3.0. This inplace method will never work because the intermediate object on which we are setting values always behaves as a copy.\n",
      "\n",
      "For example, when doing 'df[col].method(value, inplace=True)', try using 'df.method({col: value}, inplace=True)' or df[col] = df[col].method(value) instead, to perform the operation inplace on the original object.\n",
      "\n",
      "\n",
      "  df['Embarked'].fillna(df['Embarked'].mode()[0], inplace=True)\n"
     ]
    }
   ],
   "source": [
    "df['Age'].fillna(df['Age'].median(), inplace=True)\n",
    "df['Embarked'].fillna(df['Embarked'].mode()[0], inplace=True)\n",
    "df.drop(columns=['Cabin'], inplace=True)  # terlalu banyak kosong"
   ]
  },
  {
   "cell_type": "code",
   "execution_count": 14,
   "id": "0e67e636",
   "metadata": {},
   "outputs": [
    {
     "name": "stdout",
     "output_type": "stream",
     "text": [
      "Jumlah missing value tiap kolom:\n",
      "PassengerId    0\n",
      "Survived       0\n",
      "Pclass         0\n",
      "Name           0\n",
      "Sex            0\n",
      "Age            0\n",
      "SibSp          0\n",
      "Parch          0\n",
      "Ticket         0\n",
      "Fare           0\n",
      "Embarked       0\n",
      "dtype: int64\n",
      "\n",
      "Ukuran data sekarang (baris, kolom):\n",
      "(891, 11)\n"
     ]
    }
   ],
   "source": [
    "# Cek jumlah missing value di setiap kolom\n",
    "print(\"Jumlah missing value tiap kolom:\")\n",
    "print(df.isnull().sum())\n",
    "\n",
    "# Cek jumlah baris dan kolom setelah perubahan\n",
    "print(\"\\nUkuran data sekarang (baris, kolom):\")\n",
    "print(df.shape)"
   ]
  },
  {
   "cell_type": "markdown",
   "id": "ae5134ba",
   "metadata": {},
   "source": [
    "##### c. Outlier detection\n",
    "Outlier adalah nilai yang jauh berbeda dari data lainnya. Nilai ini bisa mengganggu analisis karena dapat memengaruhi hasil secara tidak wajar.\n",
    "\n",
    "Pada dataset Titanic, outlier dicek khusus pada kolom Age karena usia memiliki rentang nilai yang luas dan bervariasi, sehingga berpotensi mengandung nilai ekstrem yang tidak wajar. Berbeda dengan kolom seperti Pclass, SibSp, dan Parch yang meskipun bertipe numerik, sebenarnya bersifat kategorikal dan memiliki rentang nilai terbatas. Oleh karena itu, Age menjadi kandidat paling relevan untuk pengecekan outlier guna menjaga akurasi model dan mencegah distorsi dalam analisis."
   ]
  },
  {
   "cell_type": "code",
   "execution_count": 15,
   "id": "5e0a2551",
   "metadata": {},
   "outputs": [
    {
     "data": {
      "image/png": "[encoded data removed]",
      "text/plain": [
       "<Figure size 640x480 with 1 Axes>"
      ]
     },
     "metadata": {},
     "output_type": "display_data"
    }
   ],
   "source": [
    "sns.boxplot(df['Age'])\n",
    "plt.title(\"Outlier pada Kolom Age\")\n",
    "plt.show()"
   ]
  },
  {
   "cell_type": "markdown",
   "id": "60b3d0e4",
   "metadata": {},
   "source": [
    "Terlihat adanya outlier pada data berdasarkan visualisasi boxplot, yaitu nilai-nilai yang berada di luar rentang antar kuartil (di atas Q3 atau di bawah Q1), yang ditandai dengan titik-titik di luar \"whisker\" pada plot tersebut."
   ]
  },
  {
   "cell_type": "code",
   "execution_count": 16,
   "id": "a95b92b5",
   "metadata": {},
   "outputs": [
    {
     "name": "stdout",
     "output_type": "stream",
     "text": [
      "Jumlah outlier pada Age: 66\n",
      "       Age\n",
      "7     2.00\n",
      "11   58.00\n",
      "15   55.00\n",
      "16    2.00\n",
      "33   66.00\n",
      "..     ...\n",
      "827   1.00\n",
      "829  62.00\n",
      "831   0.83\n",
      "851  74.00\n",
      "879  56.00\n",
      "\n",
      "[66 rows x 1 columns]\n"
     ]
    }
   ],
   "source": [
    "# Menghitung IQR (Interquartile Range) untuk Age\n",
    "Q1 = df['Age'].quantile(0.25)\n",
    "Q3 = df['Age'].quantile(0.75)\n",
    "IQR = Q3 - Q1\n",
    "\n",
    "# Menentukan batas bawah dan atas\n",
    "lower_bound = Q1 - 1.5 * IQR\n",
    "upper_bound = Q3 + 1.5 * IQR\n",
    "\n",
    "# Mengidentifikasi outlier\n",
    "outliers = df[(df['Age'] < lower_bound) | (df['Age'] > upper_bound)]\n",
    "\n",
    "print(f\"Jumlah outlier pada Age: {len(outliers)}\")\n",
    "print(outliers[['Age']])\n"
   ]
  },
  {
   "cell_type": "markdown",
   "id": "29b1487d",
   "metadata": {},
   "source": [
    "Pada kolom Age, terdeteksi adanya outlier, yang terlihat pada nilai sekitar 66 tahun."
   ]
  },
  {
   "cell_type": "markdown",
   "id": "46a4c8e1",
   "metadata": {},
   "source": [
    "##### d. Menghapus Outlier"
   ]
  },
  {
   "cell_type": "markdown",
   "id": "57189050",
   "metadata": {},
   "source": [
    "Outlier pada kolom Age dapat memengaruhi kinerja algoritma klasifikasi yang sensitif terhadap nilai ekstrem, seperti KNN dan SVM. Oleh karena itu, outlier dihapus agar distribusi data menjadi lebih stabil dan model tidak bias terhadap data yang menyimpang. Penghapusan dilakukan dengan metode IQR, di mana data di luar batas bawah dan atas dianggap sebagai outlier."
   ]
  },
  {
   "cell_type": "code",
   "execution_count": 18,
   "id": "be7188a5",
   "metadata": {},
   "outputs": [
    {
     "name": "stdout",
     "output_type": "stream",
     "text": [
      "Jumlah data setelah menghapus outlier: 825\n"
     ]
    }
   ],
   "source": [
    "# Menghapus outlier pada kolom 'Age'\n",
    "df_cleaned = df[(df['Age'] >= lower_bound) & (df['Age'] <= upper_bound)]\n",
    "print(f\"Jumlah data setelah menghapus outlier: {len(df_cleaned)}\")"
   ]
  },
  {
   "cell_type": "markdown",
   "id": "eae7fac4",
   "metadata": {},
   "source": [
    "##### e. Standarisasi Fitur"
   ]
  },
  {
   "cell_type": "markdown",
   "id": "a5e293ac",
   "metadata": {},
   "source": [
    "Setelah menghapus outlier pada kolom Age, dilakukan standarisasi terhadap fitur numerik. Standarisasi dipilih karena beberapa algoritma klasifikasi sensitif terhadap skala data. Dengan standarisasi, setiap fitur akan memiliki rata-rata 0 dan standar deviasi 1, sehingga model bekerja lebih optimal dan seimbang dalam mempertimbangkan semua fitur."
   ]
  },
  {
   "cell_type": "code",
   "execution_count": 19,
   "id": "48091b84",
   "metadata": {},
   "outputs": [
    {
     "name": "stderr",
     "output_type": "stream",
     "text": [
      "C:\\Users\\LENOVO\\AppData\\Local\\Temp\\ipykernel_30116\\3631465083.py:9: SettingWithCopyWarning: \n",
      "A value is trying to be set on a copy of a slice from a DataFrame.\n",
      "Try using .loc[row_indexer,col_indexer] = value instead\n",
      "\n",
      "See the caveats in the documentation: https://pandas.pydata.org/pandas-docs/stable/user_guide/indexing.html#returning-a-view-versus-a-copy\n",
      "  X['Sex'] = X['Sex'].map({'male': 0, 'female': 1})\n",
      "C:\\Users\\LENOVO\\AppData\\Local\\Temp\\ipykernel_30116\\3631465083.py:10: SettingWithCopyWarning: \n",
      "A value is trying to be set on a copy of a slice from a DataFrame.\n",
      "Try using .loc[row_indexer,col_indexer] = value instead\n",
      "\n",
      "See the caveats in the documentation: https://pandas.pydata.org/pandas-docs/stable/user_guide/indexing.html#returning-a-view-versus-a-copy\n",
      "  X['Embarked'] = X['Embarked'].map({'S': 0, 'C': 1, 'Q': 2})\n",
      "C:\\Users\\LENOVO\\AppData\\Local\\Temp\\ipykernel_30116\\3631465083.py:13: SettingWithCopyWarning: \n",
      "A value is trying to be set on a copy of a slice from a DataFrame\n",
      "\n",
      "See the caveats in the documentation: https://pandas.pydata.org/pandas-docs/stable/user_guide/indexing.html#returning-a-view-versus-a-copy\n",
      "  X.fillna(0, inplace=True)\n"
     ]
    }
   ],
   "source": [
    "from sklearn.preprocessing import StandardScaler\n",
    "\n",
    "# 1. Pilih fitur yang akan digunakan\n",
    "features = ['Pclass', 'Sex', 'Age', 'SibSp', 'Parch', 'Fare', 'Embarked']\n",
    "X = df[features]\n",
    "y = df['Survived']\n",
    "\n",
    "# 2. Encoding kolom kategorikal\n",
    "X['Sex'] = X['Sex'].map({'male': 0, 'female': 1})\n",
    "X['Embarked'] = X['Embarked'].map({'S': 0, 'C': 1, 'Q': 2})\n",
    "\n",
    "# 3. Tangani missing value jika masih ada\n",
    "X.fillna(0, inplace=True)\n",
    "\n",
    "# 4. Scaling (standarisasi)\n",
    "scaler = StandardScaler()\n",
    "X_scaled = scaler.fit_transform(X)\n"
   ]
  },
  {
   "cell_type": "markdown",
   "id": "f54dd50e",
   "metadata": {},
   "source": [
    "### 3. Modelling"
   ]
  },
  {
   "cell_type": "markdown",
   "id": "a5b6ce33",
   "metadata": {},
   "source": [
    "##### a. Train-Test Split"
   ]
  },
  {
   "cell_type": "markdown",
   "id": "107f1367",
   "metadata": {},
   "source": [
    "Data dibagi menjadi dua bagian, yaitu data training dan data testing.\n",
    "Data training digunakan untuk melatih model, sedangkan data testing digunakan untuk mengevaluasi performa model terhadap data baru.\n",
    "Tujuannya adalah agar model tidak hanya hafal data, tetapi bisa menggeneralisasi ke data yang belum pernah dilihat sebelumnya."
   ]
  },
  {
   "cell_type": "code",
   "execution_count": 20,
   "id": "cf9990dd",
   "metadata": {},
   "outputs": [],
   "source": [
    "from sklearn.model_selection import train_test_split\n",
    "\n",
    "# Pembagian data 80% training dan 20% testing\n",
    "X_train, X_test, y_train, y_test = train_test_split(X_scaled, y, test_size=0.2, random_state=42)"
   ]
  },
  {
   "cell_type": "markdown",
   "id": "559076d0",
   "metadata": {},
   "source": [
    "##### b. Proporsi Pembagian Data"
   ]
  },
  {
   "cell_type": "markdown",
   "id": "f25f428a",
   "metadata": {},
   "source": [
    "Pembagian data menggunakan proporsi 80% data latih dan 20% data uji. Proporsi ini umum digunakan karena seimbang: data latih cukup besar untuk membangun model yang kuat, dan data uji cukup untuk evaluasi performa."
   ]
  },
  {
   "cell_type": "markdown",
   "id": "ecbf1c8f",
   "metadata": {},
   "source": [
    "##### c. Pembuatan Tiga Model Klasifikasi"
   ]
  },
  {
   "cell_type": "markdown",
   "id": "e796539a",
   "metadata": {},
   "source": [
    "Untuk memprediksi kelangsungan hidup penumpang Titanic, digunakan tiga model klasifikasi berikut:\n",
    "\n",
    "1. Logistic Regression: Model linier untuk klasifikasi biner. Memodelkan hubungan antara fitur dan probabilitas suatu kelas menggunakan fungsi logistik.\n",
    "\n",
    "2. K-Nearest Neighbors (KNN): Mengklasifikasikan data berdasarkan tetangga terdekat. Setiap data diuji dengan mencari k titik pelatihan terdekat dan memberikan label mayoritas.\n",
    "\n",
    "3. Decision Tree: Memisahkan data dengan serangkaian pertanyaan (ya/tidak) untuk membentuk pohon. Mudah diinterpretasi, namun rawan overfitting tanpa penyesuaian yang tepat."
   ]
  },
  {
   "cell_type": "code",
   "execution_count": 21,
   "id": "c8aed392",
   "metadata": {},
   "outputs": [],
   "source": [
    "from sklearn.linear_model import LogisticRegression\n",
    "from sklearn.neighbors import KNeighborsClassifier\n",
    "from sklearn.tree import DecisionTreeClassifier"
   ]
  },
  {
   "cell_type": "code",
   "execution_count": 22,
   "id": "9411afa5",
   "metadata": {},
   "outputs": [],
   "source": [
    "# Logistic Regression\n",
    "logreg = LogisticRegression()\n",
    "logreg.fit(X_train, y_train)\n",
    "y_pred_logreg = logreg.predict(X_test)"
   ]
  },
  {
   "cell_type": "code",
   "execution_count": 23,
   "id": "ede77b42",
   "metadata": {},
   "outputs": [],
   "source": [
    "# KNN\n",
    "knn = KNeighborsClassifier(n_neighbors=5)\n",
    "knn.fit(X_train, y_train)\n",
    "y_pred_knn = knn.predict(X_test)"
   ]
  },
  {
   "cell_type": "code",
   "execution_count": 24,
   "id": "037411fb",
   "metadata": {},
   "outputs": [],
   "source": [
    "# Decision Tree\n",
    "tree = DecisionTreeClassifier()\n",
    "tree.fit(X_train, y_train)\n",
    "y_pred_tree = tree.predict(X_test)"
   ]
  },
  {
   "cell_type": "markdown",
   "id": "ed7019cd",
   "metadata": {},
   "source": [
    "##### d.  Evaluasi Metrik Model"
   ]
  },
  {
   "cell_type": "markdown",
   "id": "4090f6e4",
   "metadata": {},
   "source": [
    "Model dievaluasi dengan accuracy, precision, recall, dan F1-score:\n",
    "\n",
    "1. Accuracy: Persentase prediksi yang benar.\n",
    "\n",
    "2. Precision: Dari semua yang diprediksi selamat, berapa yang benar.\n",
    "\n",
    "3. Recall: Dari semua yang benar-benar selamat, berapa yang berhasil diprediksi.\n",
    "\n",
    "4. F1-Score: Gabungan antara precision dan recall."
   ]
  },
  {
   "cell_type": "code",
   "execution_count": 25,
   "id": "0de715ac",
   "metadata": {},
   "outputs": [
    {
     "name": "stdout",
     "output_type": "stream",
     "text": [
      "Logistic Regression:\n",
      "               precision    recall  f1-score   support\n",
      "\n",
      "           0       0.82      0.85      0.83       105\n",
      "           1       0.77      0.73      0.75        74\n",
      "\n",
      "    accuracy                           0.80       179\n",
      "   macro avg       0.79      0.79      0.79       179\n",
      "weighted avg       0.80      0.80      0.80       179\n",
      "\n"
     ]
    }
   ],
   "source": [
    "# Logistic Regression\n",
    "from sklearn.metrics import classification_report\n",
    "\n",
    "print(\"Logistic Regression:\\n\", classification_report(y_test, y_pred_logreg))"
   ]
  },
  {
   "cell_type": "markdown",
   "id": "690d250c",
   "metadata": {},
   "source": [
    "Model ini menghasilkan akurasi sebesar 80%. Precision-nya tinggi untuk kelas 0 (tidak selamat) yaitu 0.82, sedangkan untuk kelas 1 (selamat) adalah 0.77, menandakan prediksi cukup akurat. Recall-nya lebih tinggi untuk kelas 0 (0.85) dibanding kelas 1 (0.73), artinya model lebih sensitif dalam mendeteksi penumpang yang tidak selamat. F1-score untuk kelas 1 adalah 0.75, menunjukkan keseimbangan moderat antara precision dan recall."
   ]
  },
  {
   "cell_type": "code",
   "execution_count": 33,
   "id": "1237ccb4",
   "metadata": {},
   "outputs": [
    {
     "name": "stdout",
     "output_type": "stream",
     "text": [
      "KNN:\n",
      "               precision    recall  f1-score   support\n",
      "\n",
      "           0       0.82      0.86      0.84       105\n",
      "           1       0.78      0.73      0.76        74\n",
      "\n",
      "    accuracy                           0.80       179\n",
      "   macro avg       0.80      0.79      0.80       179\n",
      "weighted avg       0.80      0.80      0.80       179\n",
      "\n"
     ]
    }
   ],
   "source": [
    "# K-Nearest Neighbors (KNN)\n",
    "print(\"KNN:\\n\", classification_report(y_test, y_pred_knn))"
   ]
  },
  {
   "cell_type": "code",
   "execution_count": 35,
   "id": "6bf2df2b",
   "metadata": {},
   "outputs": [
    {
     "data": {
      "image/png": "[encoded data removed]",
      "text/plain": [
       "<Figure size 640x480 with 2 Axes>"
      ]
     },
     "metadata": {},
     "output_type": "display_data"
    }
   ],
   "source": [
    "# Confusion Matrix for KNN\n",
    "cm = confusion_matrix(y_test, y_pred_knn)\n",
    "labels = ['Tidak Selamat', 'Selamat']\n",
    "disp = ConfusionMatrixDisplay(confusion_matrix=cm, display_labels=labels)\n",
    "disp.plot(cmap='Blues', values_format='d')\n",
    "plt.title('Confusion Matrix - KNN')\n",
    "plt.show()"
   ]
  },
  {
   "cell_type": "markdown",
   "id": "b5e2cd6f",
   "metadata": {},
   "source": [
    "Model KNN juga meraih akurasi 80%. Precision untuk kelas 0 adalah 0.82, dan untuk kelas 1 adalah 0.78, menandakan ketepatan yang cukup seimbang. Recall kelas 0 lebih tinggi (0.86) dibanding kelas 1 (0.73), serupa dengan Logistic Regression. Namun, F1-score kelas 1 sebesar 0.76 sedikit lebih baik, mencerminkan keseimbangan yang lebih kuat."
   ]
  },
  {
   "cell_type": "code",
   "execution_count": 27,
   "id": "d03b00cb",
   "metadata": {},
   "outputs": [
    {
     "name": "stdout",
     "output_type": "stream",
     "text": [
      "Decision Tree:\n",
      "               precision    recall  f1-score   support\n",
      "\n",
      "           0       0.82      0.84      0.83       105\n",
      "           1       0.76      0.74      0.75        74\n",
      "\n",
      "    accuracy                           0.80       179\n",
      "   macro avg       0.79      0.79      0.79       179\n",
      "weighted avg       0.80      0.80      0.80       179\n",
      "\n"
     ]
    }
   ],
   "source": [
    "# Decision Tree\n",
    "print(\"Decision Tree:\\n\", classification_report(y_test, y_pred_tree))"
   ]
  },
  {
   "cell_type": "markdown",
   "id": "d6d7d3ca",
   "metadata": {},
   "source": [
    "Model Decision Tree menunjukkan performa yang cukup baik dengan akurasi sebesar 80%, hanya sedikit berbeda dibanding dua model lainnya. Untuk kelas 0 (tidak selamat), model ini mencatatkan precision 0.82 dan recall 0.84, sedangkan untuk kelas 1 (selamat), nilai precision-nya 0.76 dan recall-nya 0.74. Nilai f1-score untuk kelas 1 sebesar 0.75 menandakan bahwa model ini masih cukup stabil dalam memprediksi penumpang yang selamat"
   ]
  },
  {
   "cell_type": "markdown",
   "id": "8d75462b",
   "metadata": {},
   "source": [
    "##### e. Model Terbaik "
   ]
  },
  {
   "cell_type": "markdown",
   "id": "2d326e70",
   "metadata": {},
   "source": [
    "Model terbaik dalam kasus ini adalah K-Nearest Neighbors (KNN). Pemilihan ini didasarkan pada hasil evaluasi model yang menunjukkan bahwa KNN memiliki kinerja paling seimbang dan efektif dalam mengklasifikasikan penumpang yang selamat (kelas 1), yang merupakan fokus utama dalam konteks penyelamatan. Meskipun semua model menghasilkan akurasi yang sama, yaitu 80%, KNN unggul dalam hal f1-score untuk kelas 1, yakni 0.76, yang merupakan nilai tertinggi dibanding Logistic Regression dan Decision Tree. Selain itu, nilai precision dan recall yang dihasilkan oleh KNN juga cukup stabil di kedua kelas, menunjukkan bahwa model ini tidak hanya tepat dalam memprediksi penumpang selamat, tetapi juga konsisten dalam mendeteksinya. Keseimbangan performa ini menjadikan KNN sebagai model yang paling optimal dari ketiga algoritma yang diuji."
   ]
  },
  {
   "cell_type": "markdown",
   "id": "3fddc83d",
   "metadata": {},
   "source": [
    "### 4. Evaluasi"
   ]
  },
  {
   "cell_type": "markdown",
   "id": "1c04eb92",
   "metadata": {},
   "source": [
    "##### a. Precision dan Recall untuk Penumpang yang Selamat"
   ]
  },
  {
   "cell_type": "markdown",
   "id": "4781c2d3",
   "metadata": {},
   "source": [
    "Pada model terbaik, yaitu K-Nearest Neighbors (KNN), kita melihat performa klasifikasi untuk penumpang yang selamat (kelas 1). Dari classification report, nilai precision sebesar 0.78 menunjukkan bahwa dari seluruh penumpang yang diprediksi selamat, sebanyak 78% memang benar-benar selamat. Sementara itu, recall sebesar 0.73 mengindikasikan bahwa dari seluruh penumpang yang benar-benar selamat di data, sebanyak 73% berhasil dikenali dan diprediksi dengan tepat oleh model. Nilai-nilai ini menunjukkan bahwa model cukup baik dalam mengidentifikasi penumpang yang selamat, meskipun masih ada ruang untuk perbaikan."
   ]
  },
  {
   "cell_type": "markdown",
   "id": "c55d17a0",
   "metadata": {},
   "source": [
    "##### b. Jumlah Penumpang yang Diprediksi Selamat dan Benar-benar Selamat"
   ]
  },
  {
   "cell_type": "markdown",
   "id": "34b99db6",
   "metadata": {},
   "source": [
    "Berdasarkan hasil evaluasi model K-Nearest Neighbors (KNN), diketahui bahwa model memprediksi sebanyak 74 penumpang sebagai kategori selamat. Namun, setelah dibandingkan dengan data aktual, hanya 54 di antaranya yang benar-benar selamat, sedangkan sisanya sebanyak 20 penumpang ternyata tidak selamat meskipun diprediksi selamat oleh model. Hal ini menunjukkan bahwa dari seluruh prediksi selamat yang dilakukan oleh model, sebagian besar memang akurat, namun masih terdapat kesalahan klasifikasi yang perlu diperhatikan dalam upaya peningkatan performa model."
   ]
  }
 ],
 "metadata": {
  "kernelspec": {
   "display_name": "Python 3",
   "language": "python",
   "name": "python3"
  },
  "language_info": {
   "codemirror_mode": {
    "name": "ipython",
    "version": 3
   },
   "file_extension": ".py",
   "mimetype": "text/x-python",
   "name": "python",
   "nbconvert_exporter": "python",
   "pygments_lexer": "ipython3",
   "version": "3.11.9"
  }
 },
 "nbformat": 4,
 "nbformat_minor": 5
}
